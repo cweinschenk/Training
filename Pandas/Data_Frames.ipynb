{
 "cells": [
  {
   "cell_type": "markdown",
   "metadata": {},
   "source": [
    "This notebook will focus on using DataFrames in Pandas\n",
    "# Data Frames"
   ]
  },
  {
   "cell_type": "code",
   "execution_count": 112,
   "metadata": {
    "collapsed": true
   },
   "outputs": [],
   "source": [
    "import pandas as pd\n",
    "import numpy as np"
   ]
  },
  {
   "cell_type": "markdown",
   "metadata": {
    "collapsed": true
   },
   "source": [
    "First, let us read in some data. There are many ways to do this, but we will work with csv data:"
   ]
  },
  {
   "cell_type": "code",
   "execution_count": 113,
   "metadata": {
    "collapsed": false
   },
   "outputs": [],
   "source": [
    "data = pd.read_csv('us-ca-la_city-building_fires_2014_2015.csv')"
   ]
  },
  {
   "cell_type": "markdown",
   "metadata": {},
   "source": [
    "Using some high level commands we can find out more about our data."
   ]
  },
  {
   "cell_type": "code",
   "execution_count": 114,
   "metadata": {
    "collapsed": false
   },
   "outputs": [
    {
     "name": "stdout",
     "output_type": "stream",
     "text": [
      "<class 'pandas.core.frame.DataFrame'>\n",
      "RangeIndex: 7082 entries, 0 to 7081\n",
      "Data columns (total 13 columns):\n",
      "index                     7082 non-null int64\n",
      "group                     7082 non-null object\n",
      "inc_date                  7082 non-null int64\n",
      "incnum                    7082 non-null int64\n",
      "exp                       7082 non-null int64\n",
      "aidtype                   7082 non-null object\n",
      "inc_type                  7082 non-null int64\n",
      "struc_type                1982 non-null float64\n",
      "property_use              7082 non-null object\n",
      "fire_sprd                 1982 non-null float64\n",
      "civilian_casualties       7082 non-null int64\n",
      "firefighter_casualties    7082 non-null int64\n",
      "incident_number           7082 non-null int64\n",
      "dtypes: float64(2), int64(8), object(3)\n",
      "memory usage: 719.3+ KB\n"
     ]
    }
   ],
   "source": [
    "data.info()"
   ]
  },
  {
   "cell_type": "markdown",
   "metadata": {},
   "source": [
    "This tells us that we are operating with a DataFrame (that is how Pandas reads the file into memory). It tells us there are 7082\n",
    "entries and that Pandas numbers rows from 0 to N-1 rows. we can also see that both struc_type and fire_sprd have empty rows. While they have the same number of entries we cannot assume that they populate the same rows."
   ]
  },
  {
   "cell_type": "code",
   "execution_count": 115,
   "metadata": {
    "collapsed": false
   },
   "outputs": [
    {
     "data": {
      "text/plain": [
       "index                       int64\n",
       "group                      object\n",
       "inc_date                    int64\n",
       "incnum                      int64\n",
       "exp                         int64\n",
       "aidtype                    object\n",
       "inc_type                    int64\n",
       "struc_type                float64\n",
       "property_use               object\n",
       "fire_sprd                 float64\n",
       "civilian_casualties         int64\n",
       "firefighter_casualties      int64\n",
       "incident_number             int64\n",
       "dtype: object"
      ]
     },
     "execution_count": 115,
     "metadata": {},
     "output_type": "execute_result"
    }
   ],
   "source": [
    "data.dtypes"
   ]
  },
  {
   "cell_type": "markdown",
   "metadata": {},
   "source": [
    "We can also quickly get some statisitcs on the data columns. Here we will look at just firefighter casualties. Recall how to call\n",
    "based on index value from the series demos. We will user the column header."
   ]
  },
  {
   "cell_type": "code",
   "execution_count": 116,
   "metadata": {
    "collapsed": false
   },
   "outputs": [
    {
     "data": {
      "text/plain": [
       "count    7082.000000\n",
       "mean        0.006072\n",
       "std         0.129494\n",
       "min         0.000000\n",
       "25%         0.000000\n",
       "50%         0.000000\n",
       "75%         0.000000\n",
       "max         8.000000\n",
       "Name: firefighter_casualties, dtype: float64"
      ]
     },
     "execution_count": 116,
     "metadata": {},
     "output_type": "execute_result"
    }
   ],
   "source": [
    "data['firefighter_casualties'].describe()"
   ]
  },
  {
   "cell_type": "markdown",
   "metadata": {},
   "source": [
    "We can also view parts of the dataset if we choose, similar to linux commands."
   ]
  },
  {
   "cell_type": "code",
   "execution_count": 117,
   "metadata": {
    "collapsed": false
   },
   "outputs": [
    {
     "data": {
      "text/html": [
       "<div>\n",
       "<table border=\"1\" class=\"dataframe\">\n",
       "  <thead>\n",
       "    <tr style=\"text-align: right;\">\n",
       "      <th></th>\n",
       "      <th>index</th>\n",
       "      <th>group</th>\n",
       "      <th>inc_date</th>\n",
       "      <th>incnum</th>\n",
       "      <th>exp</th>\n",
       "      <th>aidtype</th>\n",
       "      <th>inc_type</th>\n",
       "      <th>struc_type</th>\n",
       "      <th>property_use</th>\n",
       "      <th>fire_sprd</th>\n",
       "      <th>civilian_casualties</th>\n",
       "      <th>firefighter_casualties</th>\n",
       "      <th>incident_number</th>\n",
       "    </tr>\n",
       "  </thead>\n",
       "  <tbody>\n",
       "    <tr>\n",
       "      <th>0</th>\n",
       "      <td>69</td>\n",
       "      <td>inc_sf2014q1.csv</td>\n",
       "      <td>20140101</td>\n",
       "      <td>519</td>\n",
       "      <td>0</td>\n",
       "      <td>N</td>\n",
       "      <td>118</td>\n",
       "      <td>NaN</td>\n",
       "      <td>962</td>\n",
       "      <td>NaN</td>\n",
       "      <td>0</td>\n",
       "      <td>0</td>\n",
       "      <td>201401010519</td>\n",
       "    </tr>\n",
       "    <tr>\n",
       "      <th>1</th>\n",
       "      <td>72</td>\n",
       "      <td>inc_sf2014q1.csv</td>\n",
       "      <td>20140101</td>\n",
       "      <td>562</td>\n",
       "      <td>0</td>\n",
       "      <td>N</td>\n",
       "      <td>118</td>\n",
       "      <td>NaN</td>\n",
       "      <td>962</td>\n",
       "      <td>NaN</td>\n",
       "      <td>0</td>\n",
       "      <td>0</td>\n",
       "      <td>201401010562</td>\n",
       "    </tr>\n",
       "    <tr>\n",
       "      <th>2</th>\n",
       "      <td>73</td>\n",
       "      <td>inc_sf2014q1.csv</td>\n",
       "      <td>20140101</td>\n",
       "      <td>583</td>\n",
       "      <td>0</td>\n",
       "      <td>N</td>\n",
       "      <td>118</td>\n",
       "      <td>NaN</td>\n",
       "      <td>963</td>\n",
       "      <td>NaN</td>\n",
       "      <td>0</td>\n",
       "      <td>0</td>\n",
       "      <td>201401010583</td>\n",
       "    </tr>\n",
       "    <tr>\n",
       "      <th>3</th>\n",
       "      <td>77</td>\n",
       "      <td>inc_sf2014q1.csv</td>\n",
       "      <td>20140101</td>\n",
       "      <td>620</td>\n",
       "      <td>0</td>\n",
       "      <td>N</td>\n",
       "      <td>113</td>\n",
       "      <td>NaN</td>\n",
       "      <td>419</td>\n",
       "      <td>NaN</td>\n",
       "      <td>0</td>\n",
       "      <td>0</td>\n",
       "      <td>201401010620</td>\n",
       "    </tr>\n",
       "    <tr>\n",
       "      <th>4</th>\n",
       "      <td>56</td>\n",
       "      <td>inc_sf2014q1.csv</td>\n",
       "      <td>20140101</td>\n",
       "      <td>422</td>\n",
       "      <td>0</td>\n",
       "      <td>N</td>\n",
       "      <td>111</td>\n",
       "      <td>1.0</td>\n",
       "      <td>419</td>\n",
       "      <td>4.0</td>\n",
       "      <td>0</td>\n",
       "      <td>0</td>\n",
       "      <td>201401010422</td>\n",
       "    </tr>\n",
       "  </tbody>\n",
       "</table>\n",
       "</div>"
      ],
      "text/plain": [
       "   index             group  inc_date  incnum  exp aidtype  inc_type  \\\n",
       "0     69  inc_sf2014q1.csv  20140101     519    0       N       118   \n",
       "1     72  inc_sf2014q1.csv  20140101     562    0       N       118   \n",
       "2     73  inc_sf2014q1.csv  20140101     583    0       N       118   \n",
       "3     77  inc_sf2014q1.csv  20140101     620    0       N       113   \n",
       "4     56  inc_sf2014q1.csv  20140101     422    0       N       111   \n",
       "\n",
       "   struc_type property_use  fire_sprd  civilian_casualties  \\\n",
       "0         NaN          962        NaN                    0   \n",
       "1         NaN          962        NaN                    0   \n",
       "2         NaN          963        NaN                    0   \n",
       "3         NaN          419        NaN                    0   \n",
       "4         1.0          419        4.0                    0   \n",
       "\n",
       "   firefighter_casualties  incident_number  \n",
       "0                       0     201401010519  \n",
       "1                       0     201401010562  \n",
       "2                       0     201401010583  \n",
       "3                       0     201401010620  \n",
       "4                       0     201401010422  "
      ]
     },
     "execution_count": 117,
     "metadata": {},
     "output_type": "execute_result"
    }
   ],
   "source": [
    "data.head()"
   ]
  },
  {
   "cell_type": "code",
   "execution_count": 118,
   "metadata": {
    "collapsed": false
   },
   "outputs": [
    {
     "data": {
      "text/html": [
       "<div>\n",
       "<table border=\"1\" class=\"dataframe\">\n",
       "  <thead>\n",
       "    <tr style=\"text-align: right;\">\n",
       "      <th></th>\n",
       "      <th>index</th>\n",
       "      <th>group</th>\n",
       "      <th>inc_date</th>\n",
       "      <th>incnum</th>\n",
       "      <th>exp</th>\n",
       "      <th>aidtype</th>\n",
       "      <th>inc_type</th>\n",
       "      <th>struc_type</th>\n",
       "      <th>property_use</th>\n",
       "      <th>fire_sprd</th>\n",
       "      <th>civilian_casualties</th>\n",
       "      <th>firefighter_casualties</th>\n",
       "      <th>incident_number</th>\n",
       "    </tr>\n",
       "  </thead>\n",
       "  <tbody>\n",
       "    <tr>\n",
       "      <th>7077</th>\n",
       "      <td>18029</td>\n",
       "      <td>inc_sf2014q2.csv</td>\n",
       "      <td>20140421</td>\n",
       "      <td>1375</td>\n",
       "      <td>0</td>\n",
       "      <td>N</td>\n",
       "      <td>118</td>\n",
       "      <td>NaN</td>\n",
       "      <td>963</td>\n",
       "      <td>NaN</td>\n",
       "      <td>0</td>\n",
       "      <td>0</td>\n",
       "      <td>201404211375</td>\n",
       "    </tr>\n",
       "    <tr>\n",
       "      <th>7078</th>\n",
       "      <td>18031</td>\n",
       "      <td>inc_sf2014q2.csv</td>\n",
       "      <td>20140421</td>\n",
       "      <td>1415</td>\n",
       "      <td>0</td>\n",
       "      <td>N</td>\n",
       "      <td>118</td>\n",
       "      <td>NaN</td>\n",
       "      <td>963</td>\n",
       "      <td>NaN</td>\n",
       "      <td>0</td>\n",
       "      <td>0</td>\n",
       "      <td>201404211415</td>\n",
       "    </tr>\n",
       "    <tr>\n",
       "      <th>7079</th>\n",
       "      <td>18032</td>\n",
       "      <td>inc_sf2014q2.csv</td>\n",
       "      <td>20140421</td>\n",
       "      <td>1415</td>\n",
       "      <td>1</td>\n",
       "      <td>N</td>\n",
       "      <td>118</td>\n",
       "      <td>NaN</td>\n",
       "      <td>963</td>\n",
       "      <td>NaN</td>\n",
       "      <td>0</td>\n",
       "      <td>0</td>\n",
       "      <td>201404211415</td>\n",
       "    </tr>\n",
       "    <tr>\n",
       "      <th>7080</th>\n",
       "      <td>18044</td>\n",
       "      <td>inc_sf2014q2.csv</td>\n",
       "      <td>20140422</td>\n",
       "      <td>110</td>\n",
       "      <td>0</td>\n",
       "      <td>N</td>\n",
       "      <td>113</td>\n",
       "      <td>NaN</td>\n",
       "      <td>419</td>\n",
       "      <td>NaN</td>\n",
       "      <td>0</td>\n",
       "      <td>0</td>\n",
       "      <td>201404220110</td>\n",
       "    </tr>\n",
       "    <tr>\n",
       "      <th>7081</th>\n",
       "      <td>115511</td>\n",
       "      <td>inc_sf20151105.csv</td>\n",
       "      <td>20151105</td>\n",
       "      <td>1178</td>\n",
       "      <td>0</td>\n",
       "      <td>N</td>\n",
       "      <td>118</td>\n",
       "      <td>NaN</td>\n",
       "      <td>960</td>\n",
       "      <td>NaN</td>\n",
       "      <td>0</td>\n",
       "      <td>0</td>\n",
       "      <td>201511051178</td>\n",
       "    </tr>\n",
       "  </tbody>\n",
       "</table>\n",
       "</div>"
      ],
      "text/plain": [
       "       index               group  inc_date  incnum  exp aidtype  inc_type  \\\n",
       "7077   18029    inc_sf2014q2.csv  20140421    1375    0       N       118   \n",
       "7078   18031    inc_sf2014q2.csv  20140421    1415    0       N       118   \n",
       "7079   18032    inc_sf2014q2.csv  20140421    1415    1       N       118   \n",
       "7080   18044    inc_sf2014q2.csv  20140422     110    0       N       113   \n",
       "7081  115511  inc_sf20151105.csv  20151105    1178    0       N       118   \n",
       "\n",
       "      struc_type property_use  fire_sprd  civilian_casualties  \\\n",
       "7077         NaN          963        NaN                    0   \n",
       "7078         NaN          963        NaN                    0   \n",
       "7079         NaN          963        NaN                    0   \n",
       "7080         NaN          419        NaN                    0   \n",
       "7081         NaN          960        NaN                    0   \n",
       "\n",
       "      firefighter_casualties  incident_number  \n",
       "7077                       0     201404211375  \n",
       "7078                       0     201404211415  \n",
       "7079                       0     201404211415  \n",
       "7080                       0     201404220110  \n",
       "7081                       0     201511051178  "
      ]
     },
     "execution_count": 118,
     "metadata": {},
     "output_type": "execute_result"
    }
   ],
   "source": [
    "data.tail()"
   ]
  },
  {
   "cell_type": "code",
   "execution_count": 119,
   "metadata": {
    "collapsed": false,
    "scrolled": true
   },
   "outputs": [
    {
     "data": {
      "text/html": [
       "<div>\n",
       "<table border=\"1\" class=\"dataframe\">\n",
       "  <thead>\n",
       "    <tr style=\"text-align: right;\">\n",
       "      <th></th>\n",
       "      <th>index</th>\n",
       "      <th>group</th>\n",
       "      <th>inc_date</th>\n",
       "      <th>incnum</th>\n",
       "      <th>exp</th>\n",
       "      <th>aidtype</th>\n",
       "      <th>inc_type</th>\n",
       "      <th>struc_type</th>\n",
       "      <th>property_use</th>\n",
       "      <th>fire_sprd</th>\n",
       "      <th>civilian_casualties</th>\n",
       "      <th>firefighter_casualties</th>\n",
       "      <th>incident_number</th>\n",
       "    </tr>\n",
       "  </thead>\n",
       "  <tbody>\n",
       "    <tr>\n",
       "      <th>5051</th>\n",
       "      <td>79823</td>\n",
       "      <td>inc_sf2015q2.csv</td>\n",
       "      <td>20150412</td>\n",
       "      <td>999</td>\n",
       "      <td>0</td>\n",
       "      <td>N</td>\n",
       "      <td>113</td>\n",
       "      <td>NaN</td>\n",
       "      <td>429</td>\n",
       "      <td>NaN</td>\n",
       "      <td>0</td>\n",
       "      <td>0</td>\n",
       "      <td>201504120999</td>\n",
       "    </tr>\n",
       "    <tr>\n",
       "      <th>5052</th>\n",
       "      <td>79834</td>\n",
       "      <td>inc_sf2015q2.csv</td>\n",
       "      <td>20150412</td>\n",
       "      <td>1083</td>\n",
       "      <td>0</td>\n",
       "      <td>N</td>\n",
       "      <td>118</td>\n",
       "      <td>NaN</td>\n",
       "      <td>215</td>\n",
       "      <td>NaN</td>\n",
       "      <td>0</td>\n",
       "      <td>0</td>\n",
       "      <td>201504121083</td>\n",
       "    </tr>\n",
       "    <tr>\n",
       "      <th>5053</th>\n",
       "      <td>79836</td>\n",
       "      <td>inc_sf2015q2.csv</td>\n",
       "      <td>20150412</td>\n",
       "      <td>1135</td>\n",
       "      <td>0</td>\n",
       "      <td>N</td>\n",
       "      <td>118</td>\n",
       "      <td>NaN</td>\n",
       "      <td>963</td>\n",
       "      <td>NaN</td>\n",
       "      <td>0</td>\n",
       "      <td>0</td>\n",
       "      <td>201504121135</td>\n",
       "    </tr>\n",
       "  </tbody>\n",
       "</table>\n",
       "</div>"
      ],
      "text/plain": [
       "      index             group  inc_date  incnum  exp aidtype  inc_type  \\\n",
       "5051  79823  inc_sf2015q2.csv  20150412     999    0       N       113   \n",
       "5052  79834  inc_sf2015q2.csv  20150412    1083    0       N       118   \n",
       "5053  79836  inc_sf2015q2.csv  20150412    1135    0       N       118   \n",
       "\n",
       "      struc_type property_use  fire_sprd  civilian_casualties  \\\n",
       "5051         NaN          429        NaN                    0   \n",
       "5052         NaN          215        NaN                    0   \n",
       "5053         NaN          963        NaN                    0   \n",
       "\n",
       "      firefighter_casualties  incident_number  \n",
       "5051                       0     201504120999  \n",
       "5052                       0     201504121083  \n",
       "5053                       0     201504121135  "
      ]
     },
     "execution_count": 119,
     "metadata": {},
     "output_type": "execute_result"
    }
   ],
   "source": [
    "data[5051:5054]"
   ]
  },
  {
   "cell_type": "markdown",
   "metadata": {},
   "source": [
    "Think of dataframes as a set of series -- that share an index - column headers. Say we want to just view the first four rows of the\n",
    "incident date:"
   ]
  },
  {
   "cell_type": "code",
   "execution_count": 120,
   "metadata": {
    "collapsed": false
   },
   "outputs": [
    {
     "data": {
      "text/plain": [
       "0    20140101\n",
       "1    20140101\n",
       "2    20140101\n",
       "3    20140101\n",
       "4    20140101\n",
       "Name: inc_date, dtype: int64"
      ]
     },
     "execution_count": 120,
     "metadata": {},
     "output_type": "execute_result"
    }
   ],
   "source": [
    "data['inc_date'].head()"
   ]
  },
  {
   "cell_type": "markdown",
   "metadata": {},
   "source": [
    "There are multiple ways to index/reference data from a dataframe."
   ]
  },
  {
   "cell_type": "code",
   "execution_count": 121,
   "metadata": {
    "collapsed": false
   },
   "outputs": [
    {
     "data": {
      "text/html": [
       "<div>\n",
       "<table border=\"1\" class=\"dataframe\">\n",
       "  <thead>\n",
       "    <tr style=\"text-align: right;\">\n",
       "      <th></th>\n",
       "      <th>index</th>\n",
       "      <th>group</th>\n",
       "      <th>inc_date</th>\n",
       "      <th>incnum</th>\n",
       "      <th>exp</th>\n",
       "      <th>aidtype</th>\n",
       "      <th>inc_type</th>\n",
       "      <th>struc_type</th>\n",
       "      <th>property_use</th>\n",
       "      <th>fire_sprd</th>\n",
       "      <th>civilian_casualties</th>\n",
       "      <th>firefighter_casualties</th>\n",
       "      <th>incident_number</th>\n",
       "    </tr>\n",
       "  </thead>\n",
       "  <tbody>\n",
       "    <tr>\n",
       "      <th>314</th>\n",
       "      <td>4106</td>\n",
       "      <td>inc_sf2014q1.csv</td>\n",
       "      <td>20140123</td>\n",
       "      <td>844</td>\n",
       "      <td>0</td>\n",
       "      <td>N</td>\n",
       "      <td>111</td>\n",
       "      <td>1.0</td>\n",
       "      <td>419</td>\n",
       "      <td>5.0</td>\n",
       "      <td>0</td>\n",
       "      <td>2</td>\n",
       "      <td>201401230844</td>\n",
       "    </tr>\n",
       "    <tr>\n",
       "      <th>370</th>\n",
       "      <td>5080</td>\n",
       "      <td>inc_sf2014q1.csv</td>\n",
       "      <td>20140129</td>\n",
       "      <td>1423</td>\n",
       "      <td>0</td>\n",
       "      <td>N</td>\n",
       "      <td>111</td>\n",
       "      <td>1.0</td>\n",
       "      <td>419</td>\n",
       "      <td>4.0</td>\n",
       "      <td>0</td>\n",
       "      <td>1</td>\n",
       "      <td>201401291423</td>\n",
       "    </tr>\n",
       "    <tr>\n",
       "      <th>1264</th>\n",
       "      <td>19600</td>\n",
       "      <td>inc_sf2014q2.csv</td>\n",
       "      <td>20140501</td>\n",
       "      <td>678</td>\n",
       "      <td>0</td>\n",
       "      <td>N</td>\n",
       "      <td>111</td>\n",
       "      <td>1.0</td>\n",
       "      <td>429</td>\n",
       "      <td>2.0</td>\n",
       "      <td>0</td>\n",
       "      <td>1</td>\n",
       "      <td>201405010678</td>\n",
       "    </tr>\n",
       "    <tr>\n",
       "      <th>1506</th>\n",
       "      <td>23684</td>\n",
       "      <td>inc_sf2014q2.csv</td>\n",
       "      <td>20140523</td>\n",
       "      <td>1041</td>\n",
       "      <td>0</td>\n",
       "      <td>N</td>\n",
       "      <td>111</td>\n",
       "      <td>1.0</td>\n",
       "      <td>419</td>\n",
       "      <td>4.0</td>\n",
       "      <td>0</td>\n",
       "      <td>2</td>\n",
       "      <td>201405231041</td>\n",
       "    </tr>\n",
       "  </tbody>\n",
       "</table>\n",
       "</div>"
      ],
      "text/plain": [
       "      index             group  inc_date  incnum  exp aidtype  inc_type  \\\n",
       "314    4106  inc_sf2014q1.csv  20140123     844    0       N       111   \n",
       "370    5080  inc_sf2014q1.csv  20140129    1423    0       N       111   \n",
       "1264  19600  inc_sf2014q2.csv  20140501     678    0       N       111   \n",
       "1506  23684  inc_sf2014q2.csv  20140523    1041    0       N       111   \n",
       "\n",
       "      struc_type property_use  fire_sprd  civilian_casualties  \\\n",
       "314          1.0          419        5.0                    0   \n",
       "370          1.0          419        4.0                    0   \n",
       "1264         1.0          429        2.0                    0   \n",
       "1506         1.0          419        4.0                    0   \n",
       "\n",
       "      firefighter_casualties  incident_number  \n",
       "314                        2     201401230844  \n",
       "370                        1     201401291423  \n",
       "1264                       1     201405010678  \n",
       "1506                       2     201405231041  "
      ]
     },
     "execution_count": 121,
     "metadata": {},
     "output_type": "execute_result"
    }
   ],
   "source": [
    "data[data.firefighter_casualties>0].head(4)"
   ]
  },
  {
   "cell_type": "markdown",
   "metadata": {},
   "source": [
    "Say we want the cases where we have civilian and firefighter casualties."
   ]
  },
  {
   "cell_type": "code",
   "execution_count": 122,
   "metadata": {
    "collapsed": false,
    "scrolled": true
   },
   "outputs": [
    {
     "data": {
      "text/html": [
       "<div>\n",
       "<table border=\"1\" class=\"dataframe\">\n",
       "  <thead>\n",
       "    <tr style=\"text-align: right;\">\n",
       "      <th></th>\n",
       "      <th>index</th>\n",
       "      <th>group</th>\n",
       "      <th>inc_date</th>\n",
       "      <th>incnum</th>\n",
       "      <th>exp</th>\n",
       "      <th>aidtype</th>\n",
       "      <th>inc_type</th>\n",
       "      <th>struc_type</th>\n",
       "      <th>property_use</th>\n",
       "      <th>fire_sprd</th>\n",
       "      <th>civilian_casualties</th>\n",
       "      <th>firefighter_casualties</th>\n",
       "      <th>incident_number</th>\n",
       "    </tr>\n",
       "  </thead>\n",
       "  <tbody>\n",
       "    <tr>\n",
       "      <th>5518</th>\n",
       "      <td>93708</td>\n",
       "      <td>inc_sf2015q3.csv</td>\n",
       "      <td>20150704</td>\n",
       "      <td>378</td>\n",
       "      <td>0</td>\n",
       "      <td>N</td>\n",
       "      <td>111</td>\n",
       "      <td>1.0</td>\n",
       "      <td>419</td>\n",
       "      <td>5.0</td>\n",
       "      <td>4</td>\n",
       "      <td>1</td>\n",
       "      <td>201507040378</td>\n",
       "    </tr>\n",
       "  </tbody>\n",
       "</table>\n",
       "</div>"
      ],
      "text/plain": [
       "      index             group  inc_date  incnum  exp aidtype  inc_type  \\\n",
       "5518  93708  inc_sf2015q3.csv  20150704     378    0       N       111   \n",
       "\n",
       "      struc_type property_use  fire_sprd  civilian_casualties  \\\n",
       "5518         1.0          419        5.0                    4   \n",
       "\n",
       "      firefighter_casualties  incident_number  \n",
       "5518                       1     201507040378  "
      ]
     },
     "execution_count": 122,
     "metadata": {},
     "output_type": "execute_result"
    }
   ],
   "source": [
    "data[(data.firefighter_casualties>0) & (data['civilian_casualties']>0)]"
   ]
  },
  {
   "cell_type": "markdown",
   "metadata": {},
   "source": [
    "We will now use this data to determine the number of total causualities and number of fires where fire spread was reported. We are going to convert some of these columns to strings so that we can slice and dice this DataFrame to suit our needs."
   ]
  },
  {
   "cell_type": "code",
   "execution_count": 129,
   "metadata": {
    "collapsed": false
   },
   "outputs": [],
   "source": [
    "data['aidtype'] = data.aidtype.apply(str)\n",
    "data['struc_type'] = data.struc_type.apply(str)\n",
    "data['inc_type'] = data.inc_type.apply(str)"
   ]
  },
  {
   "cell_type": "code",
   "execution_count": 130,
   "metadata": {
    "collapsed": false
   },
   "outputs": [
    {
     "data": {
      "text/plain": [
       "index                       int64\n",
       "group                      object\n",
       "inc_date                    int64\n",
       "incnum                      int64\n",
       "exp                         int64\n",
       "aidtype                    object\n",
       "inc_type                   object\n",
       "struc_type                 object\n",
       "property_use               object\n",
       "fire_sprd                 float64\n",
       "civilian_casualties         int64\n",
       "firefighter_casualties      int64\n",
       "incident_number             int64\n",
       "dtype: object"
      ]
     },
     "execution_count": 130,
     "metadata": {},
     "output_type": "execute_result"
    }
   ],
   "source": [
    "data.dtypes"
   ]
  },
  {
   "cell_type": "markdown",
   "metadata": {},
   "source": [
    "Another way to do this would have been when we read in the data:\n",
    "data = pd.read_csv('us-ca-la_city-building_fires_2014_2015.csv',dtype={ 'aidtype':str,'struc_type':str,'inc_type': str,})"
   ]
  },
  {
   "cell_type": "code",
   "execution_count": 172,
   "metadata": {
    "collapsed": false
   },
   "outputs": [],
   "source": [
    "data2 = (pd.read_csv('us-ca-la_city-building_fires_2014_2015.csv',dtype={ 'aidtype':str,'struc_type':str,'inc_type': str,})\n",
    "                   .fillna(0)\n",
    "                   )"
   ]
  },
  {
   "cell_type": "code",
   "execution_count": 173,
   "metadata": {
    "collapsed": false
   },
   "outputs": [
    {
     "data": {
      "text/html": [
       "<div>\n",
       "<table border=\"1\" class=\"dataframe\">\n",
       "  <thead>\n",
       "    <tr style=\"text-align: right;\">\n",
       "      <th></th>\n",
       "      <th>index</th>\n",
       "      <th>group</th>\n",
       "      <th>inc_date</th>\n",
       "      <th>incnum</th>\n",
       "      <th>exp</th>\n",
       "      <th>aidtype</th>\n",
       "      <th>inc_type</th>\n",
       "      <th>struc_type</th>\n",
       "      <th>property_use</th>\n",
       "      <th>fire_sprd</th>\n",
       "      <th>civilian_casualties</th>\n",
       "      <th>firefighter_casualties</th>\n",
       "      <th>incident_number</th>\n",
       "    </tr>\n",
       "  </thead>\n",
       "  <tbody>\n",
       "    <tr>\n",
       "      <th>7077</th>\n",
       "      <td>18029</td>\n",
       "      <td>inc_sf2014q2.csv</td>\n",
       "      <td>20140421</td>\n",
       "      <td>1375</td>\n",
       "      <td>0</td>\n",
       "      <td>N</td>\n",
       "      <td>118</td>\n",
       "      <td>0</td>\n",
       "      <td>963</td>\n",
       "      <td>0.0</td>\n",
       "      <td>0</td>\n",
       "      <td>0</td>\n",
       "      <td>201404211375</td>\n",
       "    </tr>\n",
       "    <tr>\n",
       "      <th>7078</th>\n",
       "      <td>18031</td>\n",
       "      <td>inc_sf2014q2.csv</td>\n",
       "      <td>20140421</td>\n",
       "      <td>1415</td>\n",
       "      <td>0</td>\n",
       "      <td>N</td>\n",
       "      <td>118</td>\n",
       "      <td>0</td>\n",
       "      <td>963</td>\n",
       "      <td>0.0</td>\n",
       "      <td>0</td>\n",
       "      <td>0</td>\n",
       "      <td>201404211415</td>\n",
       "    </tr>\n",
       "    <tr>\n",
       "      <th>7079</th>\n",
       "      <td>18032</td>\n",
       "      <td>inc_sf2014q2.csv</td>\n",
       "      <td>20140421</td>\n",
       "      <td>1415</td>\n",
       "      <td>1</td>\n",
       "      <td>N</td>\n",
       "      <td>118</td>\n",
       "      <td>0</td>\n",
       "      <td>963</td>\n",
       "      <td>0.0</td>\n",
       "      <td>0</td>\n",
       "      <td>0</td>\n",
       "      <td>201404211415</td>\n",
       "    </tr>\n",
       "    <tr>\n",
       "      <th>7080</th>\n",
       "      <td>18044</td>\n",
       "      <td>inc_sf2014q2.csv</td>\n",
       "      <td>20140422</td>\n",
       "      <td>110</td>\n",
       "      <td>0</td>\n",
       "      <td>N</td>\n",
       "      <td>113</td>\n",
       "      <td>0</td>\n",
       "      <td>419</td>\n",
       "      <td>0.0</td>\n",
       "      <td>0</td>\n",
       "      <td>0</td>\n",
       "      <td>201404220110</td>\n",
       "    </tr>\n",
       "    <tr>\n",
       "      <th>7081</th>\n",
       "      <td>115511</td>\n",
       "      <td>inc_sf20151105.csv</td>\n",
       "      <td>20151105</td>\n",
       "      <td>1178</td>\n",
       "      <td>0</td>\n",
       "      <td>N</td>\n",
       "      <td>118</td>\n",
       "      <td>0</td>\n",
       "      <td>960</td>\n",
       "      <td>0.0</td>\n",
       "      <td>0</td>\n",
       "      <td>0</td>\n",
       "      <td>201511051178</td>\n",
       "    </tr>\n",
       "  </tbody>\n",
       "</table>\n",
       "</div>"
      ],
      "text/plain": [
       "       index               group  inc_date  incnum  exp aidtype inc_type  \\\n",
       "7077   18029    inc_sf2014q2.csv  20140421    1375    0       N      118   \n",
       "7078   18031    inc_sf2014q2.csv  20140421    1415    0       N      118   \n",
       "7079   18032    inc_sf2014q2.csv  20140421    1415    1       N      118   \n",
       "7080   18044    inc_sf2014q2.csv  20140422     110    0       N      113   \n",
       "7081  115511  inc_sf20151105.csv  20151105    1178    0       N      118   \n",
       "\n",
       "     struc_type property_use  fire_sprd  civilian_casualties  \\\n",
       "7077          0          963        0.0                    0   \n",
       "7078          0          963        0.0                    0   \n",
       "7079          0          963        0.0                    0   \n",
       "7080          0          419        0.0                    0   \n",
       "7081          0          960        0.0                    0   \n",
       "\n",
       "      firefighter_casualties  incident_number  \n",
       "7077                       0     201404211375  \n",
       "7078                       0     201404211415  \n",
       "7079                       0     201404211415  \n",
       "7080                       0     201404220110  \n",
       "7081                       0     201511051178  "
      ]
     },
     "execution_count": 173,
     "metadata": {},
     "output_type": "execute_result"
    }
   ],
   "source": [
    "data2.tail()"
   ]
  },
  {
   "cell_type": "code",
   "execution_count": null,
   "metadata": {
    "collapsed": true
   },
   "outputs": [],
   "source": []
  }
 ],
 "metadata": {
  "kernelspec": {
   "display_name": "Python 3",
   "language": "python",
   "name": "python3"
  },
  "language_info": {
   "codemirror_mode": {
    "name": "ipython",
    "version": 3
   },
   "file_extension": ".py",
   "mimetype": "text/x-python",
   "name": "python",
   "nbconvert_exporter": "python",
   "pygments_lexer": "ipython3",
   "version": "3.5.1"
  }
 },
 "nbformat": 4,
 "nbformat_minor": 0
}

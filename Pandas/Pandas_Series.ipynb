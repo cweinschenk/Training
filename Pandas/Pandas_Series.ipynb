{
 "cells": [
  {
   "cell_type": "markdown",
   "metadata": {},
   "source": [
    "This python (or jupyter) notebook is an introduction to pandas series as well as python notebooks. First lets import the necessary packages:"
   ]
  },
  {
   "cell_type": "code",
   "execution_count": 71,
   "metadata": {
    "collapsed": true
   },
   "outputs": [],
   "source": [
    "import pandas as pd\n",
    "import numpy as np"
   ]
  },
  {
   "cell_type": "markdown",
   "metadata": {},
   "source": [
    "# Data Series\n",
    "Lets make up some data to start as a way to highlight features. Just picted abritrary numbers and strings."
   ]
  },
  {
   "cell_type": "code",
   "execution_count": 72,
   "metadata": {
    "collapsed": false
   },
   "outputs": [
    {
     "data": {
      "text/plain": [
       "0        4620\n",
       "1          UL\n",
       "2    5.67e-08\n",
       "3         -61\n",
       "4        FSRI\n",
       "dtype: object"
      ]
     },
     "execution_count": 72,
     "metadata": {},
     "output_type": "execute_result"
    }
   ],
   "source": [
    "sdat = pd.Series([4620, 'UL', 5.67e-8, -61, 'FSRI'])\n",
    "sdat"
   ]
  },
  {
   "cell_type": "markdown",
   "metadata": {},
   "source": [
    "You can also index data in a series, let's redefine sdat:"
   ]
  },
  {
   "cell_type": "code",
   "execution_count": 73,
   "metadata": {
    "collapsed": false
   },
   "outputs": [
    {
     "data": {
      "text/plain": [
       "K        4620\n",
       "T          UL\n",
       "F    5.67e-08\n",
       "1         -61\n",
       "0        FSRI\n",
       "dtype: object"
      ]
     },
     "execution_count": 73,
     "metadata": {},
     "output_type": "execute_result"
    }
   ],
   "source": [
    "sdat = pd.Series([4620, 'UL', 5.67e-8, -61, 'FSRI'], index=['K','T','F','1','0'])\n",
    "sdat"
   ]
  },
  {
   "cell_type": "markdown",
   "metadata": {},
   "source": [
    "We can use that index to refer to a particular value:"
   ]
  },
  {
   "cell_type": "code",
   "execution_count": 74,
   "metadata": {
    "collapsed": false
   },
   "outputs": [
    {
     "data": {
      "text/plain": [
       "4620"
      ]
     },
     "execution_count": 74,
     "metadata": {},
     "output_type": "execute_result"
    }
   ],
   "source": [
    "sdat['K']"
   ]
  },
  {
   "cell_type": "markdown",
   "metadata": {},
   "source": [
    "A pandas series can also be used to interpret a dictionary. Here lets rank some things on how awesome they are:"
   ]
  },
  {
   "cell_type": "code",
   "execution_count": 103,
   "metadata": {
    "collapsed": true
   },
   "outputs": [],
   "source": [
    "some_city_data = {'Northbrook': 1000, 'Rockville': 1, 'Columbia': 600, 'DC': 9000,\n",
    "     'Austin': 10000, 'Baltimore': None}"
   ]
  },
  {
   "cell_type": "markdown",
   "metadata": {},
   "source": [
    "We can concert this to a pandas data series:"
   ]
  },
  {
   "cell_type": "code",
   "execution_count": 104,
   "metadata": {
    "collapsed": false
   },
   "outputs": [
    {
     "data": {
      "text/plain": [
       "Austin        10000\n",
       "Baltimore       NaN\n",
       "Columbia        600\n",
       "DC             9000\n",
       "Northbrook     1000\n",
       "Rockville         1\n",
       "dtype: float64"
      ]
     },
     "execution_count": 104,
     "metadata": {},
     "output_type": "execute_result"
    }
   ],
   "source": [
    "cities = pd.Series(some_city_data)\n",
    "cities"
   ]
  },
  {
   "cell_type": "markdown",
   "metadata": {},
   "source": [
    "Just like before you can use the index value to grab data:"
   ]
  },
  {
   "cell_type": "code",
   "execution_count": 105,
   "metadata": {
    "collapsed": false
   },
   "outputs": [
    {
     "data": {
      "text/plain": [
       "10000.0"
      ]
     },
     "execution_count": 105,
     "metadata": {},
     "output_type": "execute_result"
    }
   ],
   "source": [
    "cities['Austin']"
   ]
  },
  {
   "cell_type": "code",
   "execution_count": 106,
   "metadata": {
    "collapsed": false
   },
   "outputs": [
    {
     "data": {
      "text/plain": [
       "Austin       10000\n",
       "Rockville        1\n",
       "DC            9000\n",
       "dtype: float64"
      ]
     },
     "execution_count": 106,
     "metadata": {},
     "output_type": "execute_result"
    }
   ],
   "source": [
    "cities[['Austin','Rockville','DC']]"
   ]
  },
  {
   "cell_type": "markdown",
   "metadata": {},
   "source": [
    "Here is where things get weird? Powerful? We can apply boolean logic to our cities data series:"
   ]
  },
  {
   "cell_type": "code",
   "execution_count": 107,
   "metadata": {
    "collapsed": false
   },
   "outputs": [
    {
     "data": {
      "text/plain": [
       "Austin        10000\n",
       "Columbia        600\n",
       "DC             9000\n",
       "Northbrook     1000\n",
       "dtype: float64"
      ]
     },
     "execution_count": 107,
     "metadata": {},
     "output_type": "execute_result"
    }
   ],
   "source": [
    "cities[cities>500]"
   ]
  },
  {
   "cell_type": "markdown",
   "metadata": {},
   "source": [
    "Pretty slick right? But what the heck is going on? We can decompose the prior line:"
   ]
  },
  {
   "cell_type": "code",
   "execution_count": 108,
   "metadata": {
    "collapsed": false
   },
   "outputs": [
    {
     "data": {
      "text/plain": [
       "Austin         True\n",
       "Baltimore     False\n",
       "Columbia       True\n",
       "DC             True\n",
       "Northbrook     True\n",
       "Rockville     False\n",
       "dtype: bool"
      ]
     },
     "execution_count": 108,
     "metadata": {},
     "output_type": "execute_result"
    }
   ],
   "source": [
    "cities>500"
   ]
  },
  {
   "cell_type": "markdown",
   "metadata": {},
   "source": [
    "The boolean logic line simply returns 'True' or 'False' back based on our criteria, here for awesomeness greater than 500.\n",
    "Putting that inside the backets means we are returning from cities where the value is true. Which is how we got the city values back."
   ]
  },
  {
   "cell_type": "markdown",
   "metadata": {},
   "source": [
    "What if we liked Austin more, I can simply change that value on the fly:"
   ]
  },
  {
   "cell_type": "code",
   "execution_count": 109,
   "metadata": {
    "collapsed": false
   },
   "outputs": [
    {
     "data": {
      "text/plain": [
       "3000000.0"
      ]
     },
     "execution_count": 109,
     "metadata": {},
     "output_type": "execute_result"
    }
   ],
   "source": [
    "cities['Austin'] = 3e6\n",
    "cities['Austin']"
   ]
  },
  {
   "cell_type": "markdown",
   "metadata": {},
   "source": [
    "We can also change values based by applying boolean logic:"
   ]
  },
  {
   "cell_type": "code",
   "execution_count": 110,
   "metadata": {
    "collapsed": false
   },
   "outputs": [
    {
     "data": {
      "text/plain": [
       "Rockville    0.5\n",
       "dtype: float64"
      ]
     },
     "execution_count": 110,
     "metadata": {},
     "output_type": "execute_result"
    }
   ],
   "source": [
    "cities[cities < 500] = 0.5\n",
    "cities[cities==0.5]"
   ]
  },
  {
   "cell_type": "markdown",
   "metadata": {},
   "source": [
    "We can also preform typical math manipulations on the entire series if we so choose."
   ]
  },
  {
   "cell_type": "code",
   "execution_count": 111,
   "metadata": {
    "collapsed": false
   },
   "outputs": [
    {
     "data": {
      "text/plain": [
       "Austin        1500000.00\n",
       "Baltimore            NaN\n",
       "Columbia          300.00\n",
       "DC               4500.00\n",
       "Northbrook        500.00\n",
       "Rockville           0.25\n",
       "dtype: float64"
      ]
     },
     "execution_count": 111,
     "metadata": {},
     "output_type": "execute_result"
    }
   ],
   "source": [
    "cities/2"
   ]
  },
  {
   "cell_type": "code",
   "execution_count": 112,
   "metadata": {
    "collapsed": false
   },
   "outputs": [
    {
     "data": {
      "text/plain": [
       "Austin        9.000000e+12\n",
       "Baltimore              NaN\n",
       "Columbia      3.600000e+05\n",
       "DC            8.100000e+07\n",
       "Northbrook    1.000000e+06\n",
       "Rockville     2.500000e-01\n",
       "dtype: float64"
      ]
     },
     "execution_count": 112,
     "metadata": {},
     "output_type": "execute_result"
    }
   ],
   "source": [
    "np.square(cities) #here is our numpy coming at ya!"
   ]
  },
  {
   "cell_type": "code",
   "execution_count": 113,
   "metadata": {
    "collapsed": false
   },
   "outputs": [
    {
     "data": {
      "text/plain": [
       "Austin        1732.050808\n",
       "Baltimore             NaN\n",
       "Columbia        24.494897\n",
       "DC              94.868330\n",
       "Northbrook      31.622777\n",
       "Rockville        0.707107\n",
       "dtype: float64"
      ]
     },
     "execution_count": 113,
     "metadata": {},
     "output_type": "execute_result"
    }
   ],
   "source": [
    "np.sqrt(cities)"
   ]
  },
  {
   "cell_type": "markdown",
   "metadata": {},
   "source": [
    "Note these previous math operations were manipulating cities values after we assigned values less than 500 to 0.5."
   ]
  },
  {
   "cell_type": "code",
   "execution_count": 114,
   "metadata": {
    "collapsed": false
   },
   "outputs": [
    {
     "data": {
      "text/plain": [
       "Austin        3000000.0\n",
       "Baltimore           NaN\n",
       "Columbia          600.0\n",
       "DC               9000.0\n",
       "Northbrook       1000.0\n",
       "Rockville           0.5\n",
       "dtype: float64"
      ]
     },
     "execution_count": 114,
     "metadata": {},
     "output_type": "execute_result"
    }
   ],
   "source": [
    "cities"
   ]
  },
  {
   "cell_type": "code",
   "execution_count": 115,
   "metadata": {
    "collapsed": false
   },
   "outputs": [
    {
     "data": {
      "text/plain": [
       "Austin        9.000000e+12\n",
       "Baltimore              NaN\n",
       "Columbia      3.600000e+05\n",
       "DC            8.100000e+07\n",
       "Northbrook    1.000000e+06\n",
       "Rockville     2.500000e-01\n",
       "dtype: float64"
      ]
     },
     "execution_count": 115,
     "metadata": {},
     "output_type": "execute_result"
    }
   ],
   "source": [
    "cities = np.square(cities) #this would change the value of cities\n",
    "cities"
   ]
  },
  {
   "cell_type": "code",
   "execution_count": 116,
   "metadata": {
    "collapsed": false
   },
   "outputs": [
    {
     "data": {
      "text/plain": [
       "Austin        3000000.0\n",
       "Baltimore           NaN\n",
       "Columbia          600.0\n",
       "DC               9000.0\n",
       "Northbrook       1000.0\n",
       "Rockville           0.5\n",
       "dtype: float64"
      ]
     },
     "execution_count": 116,
     "metadata": {},
     "output_type": "execute_result"
    }
   ],
   "source": [
    "cities=np.sqrt(cities)\n",
    "cities"
   ]
  },
  {
   "cell_type": "markdown",
   "metadata": {},
   "source": [
    "We can also add cities if we choose."
   ]
  },
  {
   "cell_type": "code",
   "execution_count": 119,
   "metadata": {
    "collapsed": false
   },
   "outputs": [
    {
     "data": {
      "text/plain": [
       "Austin         NaN\n",
       "New York       NaN\n",
       "Northbrook    2000\n",
       "Rockville      NaN\n",
       "dtype: float64"
      ]
     },
     "execution_count": 119,
     "metadata": {},
     "output_type": "execute_result"
    }
   ],
   "source": [
    "cities[['Austin','Northbrook','New York']] + cities[['Northbrook','Rockville']]"
   ]
  },
  {
   "cell_type": "markdown",
   "metadata": {},
   "source": [
    "It only adds where the indexes are common between the two."
   ]
  }
 ],
 "metadata": {
  "kernelspec": {
   "display_name": "Python 3",
   "language": "python",
   "name": "python3"
  },
  "language_info": {
   "codemirror_mode": {
    "name": "ipython",
    "version": 3
   },
   "file_extension": ".py",
   "mimetype": "text/x-python",
   "name": "python",
   "nbconvert_exporter": "python",
   "pygments_lexer": "ipython3",
   "version": "3.5.1"
  }
 },
 "nbformat": 4,
 "nbformat_minor": 0
}
